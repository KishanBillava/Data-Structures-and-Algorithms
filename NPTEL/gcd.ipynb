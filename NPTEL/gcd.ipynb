{
 "cells": [
  {
   "cell_type": "code",
   "execution_count": 3,
   "metadata": {},
   "outputs": [
    {
     "data": {
      "text/plain": [
       "7"
      ]
     },
     "execution_count": 3,
     "metadata": {},
     "output_type": "execute_result"
    }
   ],
   "source": [
    "def gcd(m,n):\n",
    "    fm = []\n",
    "    for i in range(1, m+1):\n",
    "        if (m%i) == 0:\n",
    "            fm.append(i)\n",
    "\n",
    "    fn = []\n",
    "    for j in range(1,n+1):\n",
    "        if (n%j) == 0:\n",
    "            fn.append(j)\n",
    "\n",
    "    cf  = []\n",
    "    for f in fm:\n",
    "        if f in fn:\n",
    "            cf.append(f)\n",
    "    return (cf[-1])\n",
    "\n",
    "x = gcd(14,63)\n",
    "x  "
   ]
  },
  {
   "cell_type": "code",
   "execution_count": 4,
   "metadata": {},
   "outputs": [
    {
     "data": {
      "text/plain": [
       "7"
      ]
     },
     "execution_count": 4,
     "metadata": {},
     "output_type": "execute_result"
    }
   ],
   "source": [
    "def gcd(m,n):\n",
    "    cf = []\n",
    "    for i in range(1, min(m,n)+1):\n",
    "        if (m%i) ==0 and (n%i) ==0:\n",
    "            cf.append(i)\n",
    "\n",
    "    return (cf[-1])\n",
    "\n",
    "x = gcd(14,63)\n",
    "x "
   ]
  },
  {
   "cell_type": "code",
   "execution_count": 12,
   "metadata": {},
   "outputs": [
    {
     "data": {
      "text/plain": [
       "7"
      ]
     },
     "execution_count": 12,
     "metadata": {},
     "output_type": "execute_result"
    }
   ],
   "source": [
    "def gcd(m,n):\n",
    "    for i in range(1, min(m,n)+1):\n",
    "        if(m%i)==0  and (n%i)==0:\n",
    "            mrcf = i\n",
    "    return (mrcf)\n",
    "\n",
    "x = gcd(14,63)\n",
    "x "
   ]
  },
  {
   "cell_type": "code",
   "execution_count": 46,
   "metadata": {},
   "outputs": [],
   "source": [
    "# error \n",
    "def gcd(m,n):\n",
    "    for i in range(min(m,n)+1, 1):\n",
    "        if(m%i)==0  and (n%i)==0:\n",
    "            return i\n",
    "        break\n",
    "    # return num\n",
    "x = gcd(14,63)\n",
    "x"
   ]
  },
  {
   "cell_type": "code",
   "execution_count": 11,
   "metadata": {},
   "outputs": [
    {
     "data": {
      "text/plain": [
       "7"
      ]
     },
     "execution_count": 11,
     "metadata": {},
     "output_type": "execute_result"
    }
   ],
   "source": [
    "def gcd(m,n):\n",
    "    return [ i for i in range(1, min(m,n)+1) if (m%i)==0 and (n%i)==0][-1]\n",
    "\n",
    "x = gcd(14,63)\n",
    "x "
   ]
  },
  {
   "cell_type": "code",
   "execution_count": 43,
   "metadata": {},
   "outputs": [
    {
     "data": {
      "text/plain": [
       "7"
      ]
     },
     "execution_count": 43,
     "metadata": {},
     "output_type": "execute_result"
    }
   ],
   "source": [
    "def gcd(m,n):\n",
    "    i = min(m,n)\n",
    "\n",
    "    while i >0:\n",
    "        if m%i==0 and n%i==0:\n",
    "            return i\n",
    "        else:\n",
    "            i = i-1\n",
    "\n",
    "x = gcd(14,63)\n",
    "x "
   ]
  },
  {
   "cell_type": "code",
   "execution_count": 49,
   "metadata": {},
   "outputs": [
    {
     "data": {
      "text/plain": [
       "7"
      ]
     },
     "execution_count": 49,
     "metadata": {},
     "output_type": "execute_result"
    }
   ],
   "source": [
    "def gcd(m,n):\n",
    "    # asume m>=n\n",
    "    if m<n:\n",
    "        (m,n) = (n,m)\n",
    "    \n",
    "    if (m%n) ==0:\n",
    "        return (n)\n",
    "    else:\n",
    "        diff = m-n\n",
    "        # diff > n? Possible \n",
    "        return (gcd(max(n,diff), min(n,diff)))\n",
    "x = gcd(14,63)\n",
    "x "
   ]
  },
  {
   "cell_type": "code",
   "execution_count": 51,
   "metadata": {},
   "outputs": [
    {
     "data": {
      "text/plain": [
       "7"
      ]
     },
     "execution_count": 51,
     "metadata": {},
     "output_type": "execute_result"
    }
   ],
   "source": [
    "def gcd(m,n):\n",
    "    if m<n:\n",
    "        (m,n) = (n,m)\n",
    "\n",
    "    while (m%n)!=0:\n",
    "        diff = m-n\n",
    "        (m,n) = (max(n,diff), min(n,diff))\n",
    "\n",
    "    return (n)\n",
    "\n",
    "x = gcd(14,63)\n",
    "x "
   ]
  },
  {
   "cell_type": "code",
   "execution_count": 52,
   "metadata": {},
   "outputs": [
    {
     "data": {
      "text/plain": [
       "7"
      ]
     },
     "execution_count": 52,
     "metadata": {},
     "output_type": "execute_result"
    }
   ],
   "source": [
    "def gcd(m,n):\n",
    "    if m<n:\n",
    "        m,n = n,m\n",
    "\n",
    "    if m%n ==0:\n",
    "        return n\n",
    "    \n",
    "    else:\n",
    "        return (gcd(n, m%n))\n",
    "\n",
    "x = gcd(14,63)\n",
    "x "
   ]
  },
  {
   "cell_type": "code",
   "execution_count": 53,
   "metadata": {},
   "outputs": [
    {
     "data": {
      "text/plain": [
       "7"
      ]
     },
     "execution_count": 53,
     "metadata": {},
     "output_type": "execute_result"
    }
   ],
   "source": [
    "def gcd(m,n):\n",
    "    if m<n:\n",
    "        m,n = n,m\n",
    "\n",
    "    while m%n !=0:\n",
    "        m, n = n, m%n\n",
    "    return n\n",
    "\n",
    "x = gcd(14,63)\n",
    "x"
   ]
  },
  {
   "cell_type": "code",
   "execution_count": null,
   "metadata": {},
   "outputs": [],
   "source": []
  }
 ],
 "metadata": {
  "interpreter": {
   "hash": "890f876c288a014ee11efda0f50c4e2036c0407b70a25cd72a8c49f956783df5"
  },
  "kernelspec": {
   "display_name": "Python 3.8.8 64-bit ('base': conda)",
   "language": "python",
   "name": "python3"
  },
  "language_info": {
   "codemirror_mode": {
    "name": "ipython",
    "version": 3
   },
   "file_extension": ".py",
   "mimetype": "text/x-python",
   "name": "python",
   "nbconvert_exporter": "python",
   "pygments_lexer": "ipython3",
   "version": "3.8.8"
  },
  "orig_nbformat": 4
 },
 "nbformat": 4,
 "nbformat_minor": 2
}
