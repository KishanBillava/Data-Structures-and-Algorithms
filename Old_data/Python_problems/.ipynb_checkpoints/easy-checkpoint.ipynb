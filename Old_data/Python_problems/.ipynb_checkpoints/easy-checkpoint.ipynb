{
 "cells": [
  {
   "cell_type": "code",
   "execution_count": 39,
   "metadata": {},
   "outputs": [
    {
     "name": "stdout",
     "output_type": "stream",
     "text": [
      "89.5\n"
     ]
    }
   ],
   "source": [
    "# cook your dish here\n",
    "req,bal = input().split()\n",
    "\n",
    "if (int(req)%5!= 0 or float(req)+.50 > float(bal)):\n",
    "    print(bal)\n",
    "else:\n",
    "    res = float(bal)-float(req) - 0.50\n",
    "    print(round(res,2))"
   ]
  },
  {
   "cell_type": "code",
   "execution_count": 40,
   "metadata": {},
   "outputs": [
    {
     "name": "stdout",
     "output_type": "stream",
     "text": [
      "1\n",
      "2\n",
      "Fizz\n",
      "4\n",
      "Buzz\n",
      "Fizz\n",
      "7\n",
      "8\n",
      "Fizz\n",
      "Buzz\n",
      "11\n",
      "Fizz\n",
      "13\n",
      "14\n",
      "FizzBuzz\n"
     ]
    }
   ],
   "source": [
    "def fizzBuzz(n):\n",
    "    # Write your code here\n",
    "    i  = 1\n",
    "    while i<=n:\n",
    "        if i%3==0 and i%5==0:\n",
    "            print('FizzBuzz')\n",
    "        elif i%5==0:\n",
    "            print('Buzz')\n",
    "        elif i%3==0:\n",
    "            print('Fizz')\n",
    "        else:\n",
    "            print(i)\n",
    "\n",
    "        i+=1\n",
    "\n",
    "fizzBuzz(15)"
   ]
  },
  {
   "cell_type": "code",
   "execution_count": 5,
   "metadata": {},
   "outputs": [
    {
     "name": "stdout",
     "output_type": "stream",
     "text": [
      "True\n"
     ]
    }
   ],
   "source": [
    "def is_leap(year):\n",
    "    leap = False\n",
    "    \n",
    "    if year%4==0: #and year%400==0 and year%100!=0:\n",
    "        leap = True\n",
    "    \n",
    "    return leap\n",
    "\n",
    "year = int(input())\n",
    "print(is_leap(year))"
   ]
  },
  {
   "cell_type": "code",
   "execution_count": 55,
   "metadata": {},
   "outputs": [
    {
     "name": "stdout",
     "output_type": "stream",
     "text": [
      "Weird\n"
     ]
    }
   ],
   "source": [
    "\n",
    "\n",
    "if __name__ == '__main__':\n",
    "    n = int(input().strip())\n",
    "    \n",
    "    if n % 2 == 1:\n",
    "        print(\"Weird\")\n",
    "    elif n % 2 == 0 and 2 <= n <= 5:\n",
    "        print(\"Not Weird\")\n",
    "    elif n % 2 == 0 and 6 <= n <= 20:\n",
    "        print(\"Weird\")\n",
    "    else:\n",
    "        print(\"Not Weird\")   "
   ]
  },
  {
   "cell_type": "code",
   "execution_count": 56,
   "metadata": {},
   "outputs": [
    {
     "data": {
      "text/plain": [
       "[23, 23, 23, 23, 23, 23]"
      ]
     },
     "execution_count": 56,
     "metadata": {},
     "output_type": "execute_result"
    }
   ],
   "source": [
    "numbers = input(\"Enter numbers: \").split() \n",
    "numbers = [int(x) for x in numbers] \n",
    "numbers"
   ]
  },
  {
   "cell_type": "code",
   "execution_count": 67,
   "metadata": {},
   "outputs": [
    {
     "data": {
      "text/plain": [
       "[12, 12, 1, 21, 12, 1, 2, 1]"
      ]
     },
     "execution_count": 67,
     "metadata": {},
     "output_type": "execute_result"
    }
   ],
   "source": [
    "# rstrip() then removes whitespace at the right end of the input, including the newline.\n",
    "# split() with no arguments splits on whitespace, transforming the input to an iterable of strings.\n",
    "list(map(int,input().rstrip().split()))\n"
   ]
  },
  {
   "cell_type": "code",
   "execution_count": 38,
   "metadata": {},
   "outputs": [
    {
     "name": "stdout",
     "output_type": "stream",
     "text": [
      "1.166667\n",
      "0.0\n",
      "0.166667\n"
     ]
    }
   ],
   "source": [
    "def plusMinus(arr):\n",
    "    # Write your code here\n",
    "    positive = list(filter(lambda x :x>0 , arr))\n",
    "    negative = list(filter(lambda x:x<0, arr))\n",
    "    zero = list(filter(lambda x:x==0, arr))\n",
    "    print(round(len(positive)/n, 6))\n",
    "    print(round(len(negative)/n, 6))\n",
    "    print(round(len(zero)/n, 6))\n",
    "    \n",
    "    \n",
    "if __name__ == '__main__':\n",
    "\n",
    "    n = int(input().strip())\n",
    "    arr = list(map(int, input().rstrip().split()))\n",
    "\n",
    "    plusMinus(arr)"
   ]
  },
  {
   "cell_type": "code",
   "execution_count": 72,
   "metadata": {},
   "outputs": [
    {
     "name": "stdout",
     "output_type": "stream",
     "text": [
      "[1, 3, 5, 13]\n"
     ]
    }
   ],
   "source": [
    "seq = [0, 1, 2, 3, 5, 8, 13]\n",
    "\n",
    "result = filter(lambda x: x % 2 != 0, seq)\n",
    "print(list(result))"
   ]
  },
  {
   "cell_type": "code",
   "execution_count": 1,
   "metadata": {},
   "outputs": [
    {
     "name": "stdout",
     "output_type": "stream",
     "text": [
      "True\n"
     ]
    }
   ],
   "source": [
    "def is_leap(year):\n",
    "    leap = False\n",
    "    \n",
    "    # Write your logic here\n",
    "    if year%4==0  and (year%100!=0 or year%400==0):\n",
    "        leap = True\n",
    "    else:\n",
    "        leap= False\n",
    "    \n",
    "    return leap\n",
    "\n",
    "year = int(input())\n",
    "print(is_leap(year))"
   ]
  },
  {
   "cell_type": "code",
   "execution_count": 37,
   "metadata": {},
   "outputs": [
    {
     "name": "stdout",
     "output_type": "stream",
     "text": [
      "012\n"
     ]
    }
   ],
   "source": [
    "#n = int(input())\n",
    "n = 3\n",
    "res = [str(x) for x in range(n)]\n",
    "print(\"\".join(res))"
   ]
  },
  {
   "cell_type": "code",
   "execution_count": 69,
   "metadata": {},
   "outputs": [
    {
     "name": "stdout",
     "output_type": "stream",
     "text": [
      "10 14\n"
     ]
    }
   ],
   "source": [
    "def miniMaxSum(arr):\n",
    "    # Write your code here\n",
    "    check = []\n",
    "    for i in range(len(arr)): \n",
    "        y = []\n",
    "        for n in arr:\n",
    "            if arr[i] == n:\n",
    "                continue\n",
    "            else:\n",
    "                y.append(n)\n",
    "\n",
    "        check.append(sum(y))\n",
    "    print(min(check), max(check))\n",
    "        \n",
    "    \n",
    "\n",
    "if __name__ == '__main__':\n",
    "\n",
    "    #arr = list(map(int, input().rstrip().split()))\n",
    "    arr = [1, 2, 3, 4, 5]\n",
    "\n",
    "    miniMaxSum(arr)\n"
   ]
  },
  {
   "cell_type": "code",
   "execution_count": 82,
   "metadata": {},
   "outputs": [
    {
     "name": "stdout",
     "output_type": "stream",
     "text": [
      "20 20\n"
     ]
    }
   ],
   "source": [
    "arr = [5, 5, 5, 5, 5]\n",
    "check = []\n",
    "i = 0\n",
    "while i <len(arr): \n",
    "    y = []\n",
    "    for k,num in enumerate(arr):\n",
    "        if i == k:\n",
    "            continue\n",
    "        else:\n",
    "            y.append(n)\n",
    "    i+=1\n",
    "\n",
    "    check.append(sum(y))\n",
    "print(min(check), max(check))"
   ]
  },
  {
   "cell_type": "code",
   "execution_count": 74,
   "metadata": {},
   "outputs": [
    {
     "name": "stdout",
     "output_type": "stream",
     "text": [
      "10 14\n"
     ]
    }
   ],
   "source": [
    "arr = [1, 2, 3, 4, 5]\n",
    "def miniMaxSum(arr):\n",
    "    min_ = arr[0]\n",
    "    max_ = arr[0]\n",
    "    sum_ = 0\n",
    "    for i in arr:\n",
    "        sum_ += i\n",
    "        if i > max_:\n",
    "            max_ = i\n",
    "        if i < min_:\n",
    "            min_ = i\n",
    "    print(sum_ - max_, sum_ - min_)\n",
    "\n",
    "miniMaxSum(arr)"
   ]
  },
  {
   "cell_type": "code",
   "execution_count": 75,
   "metadata": {},
   "outputs": [
    {
     "name": "stdout",
     "output_type": "stream",
     "text": [
      "10 14\n"
     ]
    }
   ],
   "source": [
    "def miniMaxSum(arr):\n",
    "    # Write your code here\n",
    "    print(sum(arr)-max(arr),end=\" \")\n",
    "    print(sum(arr)-min(arr))\n",
    "arr = [1, 2, 3, 4, 5]\n",
    "miniMaxSum(arr)"
   ]
  },
  {
   "cell_type": "code",
   "execution_count": 91,
   "metadata": {},
   "outputs": [
    {
     "name": "stdout",
     "output_type": "stream",
     "text": [
      "4\n",
      "4\n"
     ]
    }
   ],
   "source": [
    "\n",
    "def miniMaxSum(arr):\n",
    "    #arr.sort()\n",
    "    print(sum(arr[:4]))\n",
    "    print(sum(arr[1:]))\n",
    "\n",
    "arr = [1, 1, 1, 1, 1]\n",
    "miniMaxSum(arr)"
   ]
  },
  {
   "cell_type": "code",
   "execution_count": 129,
   "metadata": {},
   "outputs": [
    {
     "name": "stdout",
     "output_type": "stream",
     "text": [
      "24:45:54\n"
     ]
    }
   ],
   "source": [
    "\n",
    "def timeConversion(s):\n",
    "    # Write your code here\n",
    "\n",
    "    if s[8:10] == \"AM\" and s[0:2] == \"12\":\n",
    "        return '00'+s[2:8]\n",
    "\n",
    "    elif s[8:10] == \"AM\":\n",
    "        return s[0:8]\n",
    "    \n",
    "    elif s[8:10] == \"PM\" and s[0:2] == \"12\":\n",
    "        return s[0:8]\n",
    "\n",
    "    else:\n",
    "        return str(int(s[0:2])+12) + s[2:8]\n",
    "\n",
    "    return s \n",
    "\n",
    "#s = input()\n",
    "s = '12:45:54PM' \n",
    "result = timeConversion(s)\n",
    "print(result)\n",
    "\n"
   ]
  },
  {
   "cell_type": "code",
   "execution_count": null,
   "metadata": {},
   "outputs": [],
   "source": [
    "\n",
    "def timeConversion(s):\n",
    "    # Write your code here\n",
    "\n",
    "    st = s[2:8]\n",
    "\n",
    "    if s[-2] == \"P\":\n",
    "        h = \n",
    "    \n",
    "    elif s[8:10] == \"PM\" and s[0:2] == \"12\":\n",
    "        return s[0:8]\n",
    "\n",
    "    else:\n",
    "        return str(int(s[0:2])+12) + s[2:8]\n",
    "\n",
    "    return f\"{h}{st}\"\n",
    "\n",
    "#s = input()\n",
    "s = '12:45:54PM' \n",
    "result = timeConversion(s)\n",
    "print(result)\n"
   ]
  },
  {
   "cell_type": "code",
   "execution_count": 151,
   "metadata": {},
   "outputs": [
    {
     "name": "stdout",
     "output_type": "stream",
     "text": [
      "12:45:54\n"
     ]
    }
   ],
   "source": [
    "def timeConversion(s):\n",
    "    h = int(s[:2])\n",
    "    msec = s[2:8]\n",
    "    h = h % 12 if s[-2:] == 'AM' else h % 12 + 12\n",
    "    return f\"{h:02}{msec}\"\n",
    "\n",
    "#s = input()\n",
    "s = '12:45:54PM' \n",
    "result = timeConversion(s)\n",
    "print(result)\n"
   ]
  },
  {
   "cell_type": "code",
   "execution_count": 86,
   "metadata": {},
   "outputs": [
    {
     "name": "stdout",
     "output_type": "stream",
     "text": [
      "4\n"
     ]
    }
   ],
   "source": [
    "def lonelyinteger(a):\n",
    "    # Write your code here\n",
    "    uni = []\n",
    "    for x in range(len(a)):\n",
    "        uni.append(a.pop(x))\n",
    "        if uni[0] not in a:\n",
    "            a.insert(x,uni[0])\n",
    "            return a[x]\n",
    "        else:\n",
    "            a.insert(x,uni[0])\n",
    "            del(uni[0])\n",
    "\n",
    "\n",
    "a = [1,2,3,4,3,2,1]\n",
    "\n",
    "result = lonelyinteger(a)\n",
    "print(result)"
   ]
  },
  {
   "cell_type": "code",
   "execution_count": 95,
   "metadata": {},
   "outputs": [
    {
     "name": "stdout",
     "output_type": "stream",
     "text": [
      "4\n"
     ]
    }
   ],
   "source": [
    "def lonelyinteger(a):\n",
    "    # Write your code here\n",
    "    result = 0\n",
    "    for i in a:\n",
    "        if a.count(i) == 1:\n",
    "            result = i #you can return i here because only 1 unique number\n",
    "    return result\n",
    "\n",
    "a = [1,2,3,4,3,2,1]\n",
    "\n",
    "result = lonelyinteger(a)\n",
    "print(result)"
   ]
  },
  {
   "cell_type": "code",
   "execution_count": 93,
   "metadata": {},
   "outputs": [
    {
     "data": {
      "text/plain": [
       "1"
      ]
     },
     "execution_count": 93,
     "metadata": {},
     "output_type": "execute_result"
    }
   ],
   "source": [
    "a = [1,2,3,4,3,2,1]\n",
    "a.count(4)"
   ]
  },
  {
   "cell_type": "code",
   "execution_count": 101,
   "metadata": {},
   "outputs": [
    {
     "name": "stdout",
     "output_type": "stream",
     "text": [
      "4\n"
     ]
    }
   ],
   "source": [
    "def lonelyinteger(a):\n",
    "   sum_of_set = sum(set(a))\n",
    "   sum_of_list = sum(a)\n",
    "   return sum_of_set*2-sum_of_list\n",
    "\n",
    "a = [1,2,3,4,3,2,1]\n",
    "\n",
    "result = lonelyinteger(a)\n",
    "print(result)"
   ]
  },
  {
   "cell_type": "code",
   "execution_count": null,
   "metadata": {},
   "outputs": [],
   "source": []
  }
 ],
 "metadata": {
  "interpreter": {
   "hash": "890f876c288a014ee11efda0f50c4e2036c0407b70a25cd72a8c49f956783df5"
  },
  "kernelspec": {
   "display_name": "Python 3.8.8 64-bit ('base': conda)",
   "language": "python",
   "name": "python3"
  },
  "language_info": {
   "codemirror_mode": {
    "name": "ipython",
    "version": 3
   },
   "file_extension": ".py",
   "mimetype": "text/x-python",
   "name": "python",
   "nbconvert_exporter": "python",
   "pygments_lexer": "ipython3",
   "version": "3.8.8"
  },
  "orig_nbformat": 4
 },
 "nbformat": 4,
 "nbformat_minor": 2
}
