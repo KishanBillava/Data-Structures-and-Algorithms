{
 "cells": [
  {
   "cell_type": "code",
   "execution_count": 1,
   "metadata": {},
   "outputs": [],
   "source": [
    "import math "
   ]
  },
  {
   "cell_type": "code",
   "execution_count": 2,
   "metadata": {},
   "outputs": [],
   "source": [
    "# Linear binary search"
   ]
  },
  {
   "cell_type": "code",
   "execution_count": 3,
   "metadata": {},
   "outputs": [],
   "source": [
    "def locate_card(cards, query):\n",
    "    if query in cards:\n",
    "        # print(cards.index(query))\n",
    "        x = cards.index(query)\n",
    "        return x # cards[x]\n",
    "    return -1\n",
    "\n"
   ]
  },
  {
   "cell_type": "code",
   "execution_count": 4,
   "metadata": {},
   "outputs": [],
   "source": [
    "\n",
    "cards = [13, 11, 10, 7, 4, 3, 1, 0]\n",
    "query  = 19  # 7 \n",
    "output = 3"
   ]
  },
  {
   "cell_type": "code",
   "execution_count": 5,
   "metadata": {},
   "outputs": [
    {
     "name": "stdout",
     "output_type": "stream",
     "text": [
      "-1\n"
     ]
    }
   ],
   "source": [
    "result  = locate_card(cards,query)\n",
    "print(result)"
   ]
  },
  {
   "cell_type": "code",
   "execution_count": 6,
   "metadata": {},
   "outputs": [
    {
     "data": {
      "text/plain": [
       "False"
      ]
     },
     "execution_count": 6,
     "metadata": {},
     "output_type": "execute_result"
    }
   ],
   "source": [
    "result == output"
   ]
  },
  {
   "cell_type": "code",
   "execution_count": 7,
   "metadata": {},
   "outputs": [
    {
     "data": {
      "text/plain": [
       "{'input': {'cards': [13, 11, 10, 7, 4, 3, 1, 0], 'query': 7}, 'output': 3}"
      ]
     },
     "execution_count": 7,
     "metadata": {},
     "output_type": "execute_result"
    }
   ],
   "source": [
    "test = {\n",
    "    'input': {\n",
    "        'cards': [13, 11, 10, 7, 4, 3, 1, 0],\n",
    "        'query': 7\n",
    "    },\n",
    "    'output': 3\n",
    "\n",
    "}\n",
    "\n",
    "test"
   ]
  },
  {
   "cell_type": "code",
   "execution_count": 8,
   "metadata": {},
   "outputs": [
    {
     "data": {
      "text/plain": [
       "True"
      ]
     },
     "execution_count": 8,
     "metadata": {},
     "output_type": "execute_result"
    }
   ],
   "source": [
    "# locate_card(test['input']['cards'], test['input']['query']) == test['output']\n",
    "locate_card(**test['input']) == test['output']"
   ]
  },
  {
   "cell_type": "code",
   "execution_count": 9,
   "metadata": {},
   "outputs": [],
   "source": [
    "tests = []\n",
    "# query occurs in the middle \n",
    "tests.append(test)\n",
    "\n",
    "tests.append({\n",
    "    'input': {\n",
    "        'cards': [13, 11, 10, 7, 4, 3, 1, 0],\n",
    "        'query': 1\n",
    "    },\n",
    "    'output': 6\n",
    "\n",
    "})\n"
   ]
  },
  {
   "cell_type": "code",
   "execution_count": 10,
   "metadata": {},
   "outputs": [],
   "source": [
    "def locate_card(cards, query):\n",
    "    position = 0\n",
    "\n",
    "    while True:\n",
    "        if cards[position] == query:\n",
    "            return position\n",
    "\n",
    "        position += 1\n",
    "\n",
    "        if position == len(cards):\n",
    "            return -1\n",
    "        "
   ]
  },
  {
   "cell_type": "code",
   "execution_count": 11,
   "metadata": {},
   "outputs": [
    {
     "data": {
      "text/plain": [
       "True"
      ]
     },
     "execution_count": 11,
     "metadata": {},
     "output_type": "execute_result"
    }
   ],
   "source": [
    "test = {\n",
    "    'input': {\n",
    "        'cards': [13, 11, 10, 7, 4, 3, 1, 0],\n",
    "        'query': 7\n",
    "    },\n",
    "    'output': 3\n",
    "\n",
    "}\n",
    "locate_card(**test['input']) == test['output']\n"
   ]
  },
  {
   "cell_type": "code",
   "execution_count": 12,
   "metadata": {},
   "outputs": [],
   "source": [
    "def locate_card(cards, query):\n",
    "    position = 0\n",
    "\n",
    "    print('cards', cards)\n",
    "    print('query', query)\n",
    "\n",
    "\n",
    "    while True:\n",
    "        print('position', position)\n",
    "        if cards[position] == query:\n",
    "            return position\n",
    "\n",
    "        position += 1\n",
    "\n",
    "        if position == len(cards):\n",
    "            return -1\n",
    "        "
   ]
  },
  {
   "cell_type": "code",
   "execution_count": 13,
   "metadata": {},
   "outputs": [],
   "source": [
    "def locate_card(cards, query):\n",
    "    position = 0\n",
    "\n",
    "    print('cards', cards)\n",
    "    print('query', query)\n",
    "\n",
    "\n",
    "    while position < len(cards):\n",
    "        print('position', position)\n",
    "        if cards[position] == query:\n",
    "            return position\n",
    "        position += 1\n",
    "    return -1\n",
    "        "
   ]
  },
  {
   "cell_type": "code",
   "execution_count": 14,
   "metadata": {},
   "outputs": [
    {
     "name": "stdout",
     "output_type": "stream",
     "text": [
      "cards []\n",
      "query 7\n"
     ]
    },
    {
     "data": {
      "text/plain": [
       "False"
      ]
     },
     "execution_count": 14,
     "metadata": {},
     "output_type": "execute_result"
    }
   ],
   "source": [
    "test = {\n",
    "    'input': {\n",
    "        'cards': [],\n",
    "        'query': 7\n",
    "    },\n",
    "    'output': 3\n",
    "\n",
    "}\n",
    "locate_card(**test['input']) == test['output']"
   ]
  },
  {
   "cell_type": "code",
   "execution_count": 15,
   "metadata": {},
   "outputs": [],
   "source": [
    "def locate_card(cards, query):\n",
    "    if query in cards:\n",
    "        # print(cards.index(query))\n",
    "        x = cards.index(query)\n",
    "        return x # cards[x]\n",
    "    return -1\n",
    "\n",
    "# time complexity of linear search O(N) \n",
    "# space complexity  O(1)\n"
   ]
  },
  {
   "cell_type": "code",
   "execution_count": 17,
   "metadata": {},
   "outputs": [],
   "source": [
    "# ---------------------------------------------------------# "
   ]
  },
  {
   "cell_type": "code",
   "execution_count": 3,
   "metadata": {},
   "outputs": [
    {
     "name": "stdout",
     "output_type": "stream",
     "text": [
      "{'low_idx': 0, 'high_idx': 7, 'mid': 3, 'mid_number': 7}\n",
      "{'low_idx': 4, 'high_idx': 7, 'mid': 5, 'mid_number': 3}\n",
      "{'low_idx': 6, 'high_idx': 7, 'mid': 6, 'mid_number': 1}\n",
      "{'low_idx': 7, 'high_idx': 7, 'mid': 7, 'mid_number': 0}\n"
     ]
    },
    {
     "data": {
      "text/plain": [
       "True"
      ]
     },
     "execution_count": 3,
     "metadata": {},
     "output_type": "execute_result"
    }
   ],
   "source": [
    "# binary search based Algorithms \n",
    "def locate_card(cards, query):\n",
    "    low_idx, high_idx = 0, len(cards) -1\n",
    "\n",
    "    while low_idx <= high_idx:\n",
    "        mid = (low_idx+high_idx)//2\n",
    "        mid_number = cards[mid]\n",
    "        d = {\"low_idx\":low_idx, \n",
    "            \"high_idx\":high_idx, \n",
    "            \"mid\":mid, \n",
    "            \"mid_number\":mid_number}\n",
    "        print(d)\n",
    "\n",
    "        if mid_number == query:\n",
    "            return mid\n",
    "\n",
    "        elif mid_number<query:\n",
    "            high_idx = mid+ 1\n",
    "        elif mid_number > query:\n",
    "            low_idx = mid+1\n",
    "\n",
    "    return -1\n",
    "\n",
    "# [13, 11, 10, 7, 4, 3, 1, 0]\n",
    "\n",
    "test = {\n",
    "    'input': {\n",
    "        'cards':  [13, 11, 10, 7, 4, 3, 1, 0],\n",
    "        'query': 0\n",
    "    },\n",
    "    'output': 7\n",
    "\n",
    "}\n",
    "locate_card(**test['input']) == test['output']\n",
    "        "
   ]
  },
  {
   "cell_type": "code",
   "execution_count": 1,
   "metadata": {},
   "outputs": [],
   "source": [
    "#"
   ]
  },
  {
   "cell_type": "code",
   "execution_count": null,
   "metadata": {},
   "outputs": [],
   "source": []
  }
 ],
 "metadata": {
  "interpreter": {
   "hash": "890f876c288a014ee11efda0f50c4e2036c0407b70a25cd72a8c49f956783df5"
  },
  "kernelspec": {
   "display_name": "Python 3.8.8 64-bit ('base': conda)",
   "language": "python",
   "name": "python3"
  },
  "language_info": {
   "codemirror_mode": {
    "name": "ipython",
    "version": 3
   },
   "file_extension": ".py",
   "mimetype": "text/x-python",
   "name": "python",
   "nbconvert_exporter": "python",
   "pygments_lexer": "ipython3",
   "version": "3.8.8"
  },
  "orig_nbformat": 4
 },
 "nbformat": 4,
 "nbformat_minor": 2
}
