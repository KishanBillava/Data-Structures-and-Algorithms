{
 "cells": [
  {
   "cell_type": "code",
   "execution_count": 1,
   "metadata": {},
   "outputs": [],
   "source": [
    "# classes and pointers "
   ]
  },
  {
   "cell_type": "code",
   "execution_count": 8,
   "metadata": {},
   "outputs": [
    {
     "name": "stdout",
     "output_type": "stream",
     "text": [
      "cookie one is  green\n",
      "cookie two is  blue\n",
      "\n",
      "cookie one is  Yellow\n",
      "cookie two is  blue\n"
     ]
    }
   ],
   "source": [
    "class Cookie:\n",
    "    def __init__(self, color):\n",
    "        self.color = color\n",
    "\n",
    "    def get_color(self):\n",
    "        return self.color\n",
    "\n",
    "    def set_color(self, color):\n",
    "        self.color = color\n",
    "    \n",
    "\n",
    "cookie_one = Cookie('green')\n",
    "cookie_two = Cookie('blue')\n",
    "\n",
    "print('cookie one is ', cookie_one.get_color())\n",
    "print('cookie two is ', cookie_two.get_color())\n",
    "print('')\n",
    "cookie_one.set_color('Yellow')\n",
    "print('cookie one is ', cookie_one.get_color())\n",
    "print('cookie two is ', cookie_two.get_color())\n"
   ]
  },
  {
   "cell_type": "code",
   "execution_count": 3,
   "metadata": {},
   "outputs": [],
   "source": [
    "class LinkedList:\n",
    "    def __init__(self, value):\n",
    "        pass\n",
    "\n",
    "    def append(self, value):\n",
    "        pass\n",
    "\n",
    "    def pop(self):\n",
    "        pass\n",
    "\n",
    "    def prepend(self, value):\n",
    "        pass\n",
    "    \n",
    "    def insert(self, index, value):\n",
    "        pass\n",
    "\n",
    "    def remove(self, index):\n",
    "        pass\n",
    "\n",
    "    "
   ]
  },
  {
   "cell_type": "code",
   "execution_count": 5,
   "metadata": {},
   "outputs": [
    {
     "name": "stdout",
     "output_type": "stream",
     "text": [
      "before value is updated: \n",
      "num1:  11\n",
      "num2:  11\n",
      "\n",
      "after value is updated: \n",
      "num1:  22\n",
      "num2:  11\n"
     ]
    }
   ],
   "source": [
    "num1  = 11\n",
    "num2 = num1\n",
    "\n",
    "print(\"before value is updated: \")\n",
    "print(\"num1: \", num1)\n",
    "print(\"num2: \", num2)\n",
    "\n",
    "print(\"\")\n",
    "num1 = 22\n",
    "print(\"after value is updated: \")\n",
    "print(\"num1: \", num1)\n",
    "print(\"num2: \", num2)\n"
   ]
  },
  {
   "cell_type": "code",
   "execution_count": 6,
   "metadata": {},
   "outputs": [
    {
     "name": "stdout",
     "output_type": "stream",
     "text": [
      "before value is updated: \n",
      "num1:  {'value': 11}\n",
      "num2:  {'value': 11}\n",
      "\n",
      "after value is updated: \n",
      "num1:  {'value': 22}\n",
      "num2:  {'value': 22}\n"
     ]
    }
   ],
   "source": [
    "# Pointer\n",
    "dict1 = {'value': 11}\n",
    "dict2 = dict1\n",
    "\n",
    "print(\"before value is updated: \")\n",
    "print(\"num1: \", dict1)\n",
    "print(\"num2: \", dict2)\n",
    "\n",
    "print(\"\")\n",
    "dict1['value'] = 22\n",
    "print(\"after value is updated: \")\n",
    "print(\"num1: \", dict1)\n",
    "print(\"num2: \", dict2)"
   ]
  },
  {
   "cell_type": "code",
   "execution_count": null,
   "metadata": {},
   "outputs": [],
   "source": []
  }
 ],
 "metadata": {
  "interpreter": {
   "hash": "be9217e815070d19b6e6bfdeed19dbb325c1c797b369bd74de00e2b4cddf4e3c"
  },
  "kernelspec": {
   "display_name": "Python 3.10.0 64-bit ('py310': conda)",
   "language": "python",
   "name": "python3"
  },
  "language_info": {
   "codemirror_mode": {
    "name": "ipython",
    "version": 3
   },
   "file_extension": ".py",
   "mimetype": "text/x-python",
   "name": "python",
   "nbconvert_exporter": "python",
   "pygments_lexer": "ipython3",
   "version": "3.8.8"
  },
  "orig_nbformat": 4
 },
 "nbformat": 4,
 "nbformat_minor": 2
}
