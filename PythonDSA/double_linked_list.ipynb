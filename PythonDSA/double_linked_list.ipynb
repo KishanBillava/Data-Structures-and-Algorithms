{
 "cells": [
  {
   "cell_type": "code",
   "execution_count": 1,
   "metadata": {},
   "outputs": [],
   "source": [
    "#"
   ]
  },
  {
   "cell_type": "code",
   "execution_count": 2,
   "metadata": {},
   "outputs": [
    {
     "data": {
      "text/plain": [
       "{'value': 7, 'next': None, 'prev': None}"
      ]
     },
     "execution_count": 2,
     "metadata": {},
     "output_type": "execute_result"
    }
   ],
   "source": [
    "{\n",
    "    \"value\": 7,\n",
    "    \"next\": None,\n",
    "    \"prev\": None\n",
    "}"
   ]
  },
  {
   "cell_type": "code",
   "execution_count": 3,
   "metadata": {},
   "outputs": [],
   "source": [
    "class Node:\n",
    "    def __init__(self, value):\n",
    "        self.value = value\n",
    "        self.next = None \n",
    "        self.prev = None\n",
    "\n",
    "\n",
    "class doubleLinkedList:\n",
    "    def __init__(self, value):\n",
    "        new_node = Node(value)\n",
    "        self.head = new_node\n",
    "        self.tail = new_node\n",
    "        self.length = 1\n",
    "\n",
    "    def append(self, value):\n",
    "        new_node = Node(value)\n",
    "        if self.head is None:\n",
    "            self.head = new_node\n",
    "            self.tail = new_node\n",
    "        else:\n",
    "            self.tail.next = new_node\n",
    "            new_node.prev = self.tail\n",
    "            self.tail = new_node\n",
    "        self.length +=1\n",
    "        return True \n",
    "\n",
    "    def pop(self):\n",
    "        if self.length == 0 :\n",
    "            return None \n",
    "        temp = self.tail\n",
    "        if self.length == 1 :\n",
    "            self.head = None\n",
    "            self.tail = None\n",
    "        else:\n",
    "            self.tail = self.tail.prev\n",
    "            self.tail.next = None\n",
    "            temp.prev = None\n",
    "        self.length -= 1\n",
    "        return temp   #temp.value\n",
    "\n",
    "    def prepend(self, value):\n",
    "        new_node  = Node(value)\n",
    "        if self.length == 0:\n",
    "            self.head = new_node\n",
    "            self.tail = new_node\n",
    "        else:\n",
    "            new_node.next = self.head\n",
    "            self.head.prev = new_node\n",
    "            self.head = new_node\n",
    "        self.length +=1\n",
    "        return True\n",
    "\n",
    "    def pop_first(self):\n",
    "        if self.length == 0:\n",
    "            return None\n",
    "        temp = self.head\n",
    "        if self.length ==1:\n",
    "            self.head = None\n",
    "            self.tail = None\n",
    "        else:\n",
    "            self.head = self.head.next\n",
    "            self.head.prev = None\n",
    "            temp.next = None\n",
    "        self.length -=1\n",
    "        return temp\n",
    "\n",
    "    def get(self, index):\n",
    "        if index < 0 or index >= self.length:\n",
    "            return None\n",
    "        temp = self.head\n",
    "        if index < self.length/2:\n",
    "            for _ in range(index):\n",
    "                temp = temp.next\n",
    "        else:\n",
    "            temp = self.tail\n",
    "            for _ in range(self.length -1, index, -1):\n",
    "                temp = temp.prev\n",
    "        return temp\n",
    "    \n",
    "    def set_value(self, index, value):\n",
    "        temp = self.get(index)\n",
    "        if temp:\n",
    "            temp.value = value \n",
    "            return True \n",
    "        return False\n",
    "        \n",
    "    def insert(self, index, value):\n",
    "        if index <0 or index > self.length:\n",
    "            return False \n",
    "        if index == 0:\n",
    "            return self.prepend(value)\n",
    "        if index == self.length:\n",
    "            return self.append(value)\n",
    "        \n",
    "        new_node = Node(value)\n",
    "        before = self.get(index -1 )\n",
    "        after = before.next \n",
    "        new_node.prev = before\n",
    "        new_node.next = after\n",
    "        before.next  = new_node\n",
    "        after.prev = new_node\n",
    "\n",
    "        self.length +=1\n",
    "        return True\n",
    "\n",
    "    def remove(self, index):\n",
    "        if index < 0 or index >= self.length:\n",
    "            return None \n",
    "        if index == 0:\n",
    "            return self.pop_first()\n",
    "        if index == self.length -1:\n",
    "            return self.pop()\n",
    "        temp = self.get(index)\n",
    "        temp.next.prev = temp.prev\n",
    "        temp.prev.next = temp.next\n",
    "        temp.next = None\n",
    "        temp.prev = None \n",
    "\n",
    "        self.length -=1\n",
    "        return temp\n",
    "\n",
    "\n",
    "    def print_list(self):\n",
    "        temp = self.head\n",
    "        while temp is not None:\n",
    "            print(temp.value)\n",
    "            temp = temp.next\n",
    "    "
   ]
  },
  {
   "cell_type": "code",
   "execution_count": 6,
   "metadata": {},
   "outputs": [
    {
     "name": "stdout",
     "output_type": "stream",
     "text": [
      "7\n"
     ]
    }
   ],
   "source": [
    "my_dll = doubleLinkedList(7)\n",
    "my_dll.print_list()"
   ]
  },
  {
   "cell_type": "code",
   "execution_count": 2,
   "metadata": {},
   "outputs": [],
   "source": [
    "#append"
   ]
  },
  {
   "cell_type": "code",
   "execution_count": 8,
   "metadata": {},
   "outputs": [
    {
     "name": "stdout",
     "output_type": "stream",
     "text": [
      "1\n",
      "2\n"
     ]
    }
   ],
   "source": [
    "my_dll = doubleLinkedList(1)\n",
    "my_dll.append(2)\n",
    "my_dll.print_list()"
   ]
  },
  {
   "cell_type": "code",
   "execution_count": 3,
   "metadata": {},
   "outputs": [],
   "source": [
    "# pop"
   ]
  },
  {
   "cell_type": "code",
   "execution_count": 12,
   "metadata": {},
   "outputs": [
    {
     "name": "stdout",
     "output_type": "stream",
     "text": [
      "1\n",
      "2\n",
      "\n",
      "2\n",
      "1\n",
      "None\n"
     ]
    }
   ],
   "source": [
    "my_dll = doubleLinkedList(1)\n",
    "my_dll.append(2)\n",
    "my_dll.print_list()\n",
    "print(\"\")\n",
    "print(my_dll.pop())\n",
    "print(my_dll.pop())\n",
    "print(my_dll.pop())"
   ]
  },
  {
   "cell_type": "code",
   "execution_count": 16,
   "metadata": {},
   "outputs": [],
   "source": [
    "# prepend"
   ]
  },
  {
   "cell_type": "code",
   "execution_count": 18,
   "metadata": {},
   "outputs": [
    {
     "name": "stdout",
     "output_type": "stream",
     "text": [
      "2\n",
      "3\n",
      "\n",
      "True\n",
      "1\n",
      "2\n",
      "3\n"
     ]
    }
   ],
   "source": [
    "my_dll = doubleLinkedList(2)\n",
    "my_dll.append(3)\n",
    "my_dll.print_list()\n",
    "print(\"\")\n",
    "print(my_dll.prepend(1))\n",
    "my_dll.print_list()"
   ]
  },
  {
   "cell_type": "code",
   "execution_count": 2,
   "metadata": {},
   "outputs": [],
   "source": [
    "# pop first "
   ]
  },
  {
   "cell_type": "code",
   "execution_count": 5,
   "metadata": {},
   "outputs": [
    {
     "name": "stdout",
     "output_type": "stream",
     "text": [
      "2\n",
      "1\n",
      "\n",
      "<__main__.Node object at 0x7fb588d3ddf0>\n",
      "<__main__.Node object at 0x7fb588d3de20>\n",
      "None\n"
     ]
    }
   ],
   "source": [
    "my_dll = doubleLinkedList(2)\n",
    "my_dll.append(1)\n",
    "my_dll.print_list()\n",
    "print(\"\")\n",
    "print(my_dll.pop_first())\n",
    "print(my_dll.pop_first())\n",
    "print(my_dll.pop_first())\n",
    "my_dll.print_list()"
   ]
  },
  {
   "cell_type": "code",
   "execution_count": 6,
   "metadata": {},
   "outputs": [],
   "source": [
    "# get"
   ]
  },
  {
   "cell_type": "code",
   "execution_count": 8,
   "metadata": {},
   "outputs": [
    {
     "name": "stdout",
     "output_type": "stream",
     "text": [
      "0\n",
      "1\n",
      "2\n",
      "3\n",
      "\n",
      "<__main__.Node object at 0x7fb588d3d340>\n",
      "<__main__.Node object at 0x7fb588d3dd90>\n",
      "0\n",
      "1\n",
      "2\n",
      "3\n"
     ]
    }
   ],
   "source": [
    "my_dll = doubleLinkedList(0)\n",
    "my_dll.append(1)\n",
    "my_dll.append(2)\n",
    "my_dll.append(3)\n",
    "my_dll.print_list()\n",
    "print(\"\")\n",
    "print(my_dll.get(1))\n",
    "print(my_dll.get(2))\n",
    "#my_dll.print_list()"
   ]
  },
  {
   "cell_type": "code",
   "execution_count": 9,
   "metadata": {},
   "outputs": [],
   "source": [
    "# set"
   ]
  },
  {
   "cell_type": "code",
   "execution_count": 12,
   "metadata": {},
   "outputs": [
    {
     "name": "stdout",
     "output_type": "stream",
     "text": [
      "11\n",
      "3\n",
      "23\n",
      "7\n",
      "\n",
      "True\n",
      "11\n",
      "4\n",
      "23\n",
      "7\n"
     ]
    }
   ],
   "source": [
    "my_dll = doubleLinkedList(11)\n",
    "my_dll.append(3)\n",
    "my_dll.append(23)\n",
    "my_dll.append(7)\n",
    "my_dll.print_list()\n",
    "print(\"\")\n",
    "print(my_dll.set_value(1, 4))\n",
    "my_dll.print_list()"
   ]
  },
  {
   "cell_type": "code",
   "execution_count": 1,
   "metadata": {},
   "outputs": [],
   "source": [
    "# Insert"
   ]
  },
  {
   "cell_type": "code",
   "execution_count": 3,
   "metadata": {},
   "outputs": [
    {
     "name": "stdout",
     "output_type": "stream",
     "text": [
      "1\n",
      "3\n",
      "\n",
      "True\n",
      "1\n",
      "2\n",
      "3\n"
     ]
    }
   ],
   "source": [
    "my_dll = doubleLinkedList(1)\n",
    "my_dll.append(3)\n",
    "my_dll.print_list()\n",
    "print(\"\")\n",
    "print(my_dll.insert(1, 2))\n",
    "my_dll.print_list()"
   ]
  },
  {
   "cell_type": "code",
   "execution_count": 4,
   "metadata": {},
   "outputs": [],
   "source": [
    "# remove"
   ]
  },
  {
   "cell_type": "code",
   "execution_count": 5,
   "metadata": {},
   "outputs": [
    {
     "name": "stdout",
     "output_type": "stream",
     "text": [
      "0\n",
      "1\n",
      "2\n",
      "\n",
      "<__main__.Node object at 0x7fa6a5f585e0>\n",
      "0\n",
      "2\n"
     ]
    }
   ],
   "source": [
    "my_dll = doubleLinkedList(0)\n",
    "my_dll.append(1)\n",
    "my_dll.append(2)\n",
    "my_dll.print_list()\n",
    "print(\"\")\n",
    "print(my_dll.remove(1))\n",
    "my_dll.print_list()"
   ]
  },
  {
   "cell_type": "code",
   "execution_count": null,
   "metadata": {},
   "outputs": [],
   "source": []
  }
 ],
 "metadata": {
  "interpreter": {
   "hash": "890f876c288a014ee11efda0f50c4e2036c0407b70a25cd72a8c49f956783df5"
  },
  "kernelspec": {
   "display_name": "Python 3.8.8 64-bit ('base': conda)",
   "language": "python",
   "name": "python3"
  },
  "language_info": {
   "codemirror_mode": {
    "name": "ipython",
    "version": 3
   },
   "file_extension": ".py",
   "mimetype": "text/x-python",
   "name": "python",
   "nbconvert_exporter": "python",
   "pygments_lexer": "ipython3",
   "version": "3.8.8"
  },
  "orig_nbformat": 4
 },
 "nbformat": 4,
 "nbformat_minor": 2
}
