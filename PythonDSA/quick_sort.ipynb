{
 "cells": [
  {
   "cell_type": "code",
   "execution_count": 15,
   "metadata": {},
   "outputs": [],
   "source": [
    "# quick sort -->  O(n log n) -----  O(n^2)\n",
    "# pivot intro"
   ]
  },
  {
   "cell_type": "code",
   "execution_count": 11,
   "metadata": {},
   "outputs": [],
   "source": [
    "def swap(my_list, index1, index2):\n",
    "    temp = my_list[index1]\n",
    "    my_list[index1] = my_list[index2]\n",
    "    my_list[index2] = temp\n",
    "\n",
    "def pivot(my_list, pivot_index, end_index):\n",
    "    swap_index = pivot_index\n",
    "    for i in range(pivot_index+1, end_index+1):\n",
    "        if my_list[i] < my_list[pivot_index]:\n",
    "            swap_index +=1\n",
    "            swap(my_list, swap_index, i)\n",
    "    swap(my_list, pivot_index, swap_index)\n",
    "    return swap_index\n",
    "\n",
    "def quick_sort_helper(my_list, left, right):\n",
    "    if left < right: \n",
    "        pivot_index = pivot(my_list, left, right)\n",
    "        quick_sort_helper(my_list, left, pivot_index-1)\n",
    "        quick_sort_helper(my_list, pivot_index+1, right)\n",
    "    return my_list\n",
    "\n",
    "\n",
    "def quick_sort(my_list):\n",
    "    return quick_sort_helper(my_list,0,len(my_list)-1)"
   ]
  },
  {
   "cell_type": "code",
   "execution_count": 12,
   "metadata": {},
   "outputs": [
    {
     "name": "stdout",
     "output_type": "stream",
     "text": [
      "3\n",
      "[2, 1, 3, 4, 6, 7, 5]\n"
     ]
    }
   ],
   "source": [
    "my_list = [4,6,1,7,3,2,5]\n",
    "print(pivot(my_list,0,6))\n",
    "print(my_list)"
   ]
  },
  {
   "cell_type": "code",
   "execution_count": 14,
   "metadata": {},
   "outputs": [
    {
     "name": "stdout",
     "output_type": "stream",
     "text": [
      "[1, 2, 3, 4, 5, 6, 7]\n"
     ]
    }
   ],
   "source": [
    "print(quick_sort([4,6,1,7,3,2,5]))"
   ]
  },
  {
   "cell_type": "code",
   "execution_count": null,
   "metadata": {},
   "outputs": [],
   "source": []
  },
  {
   "cell_type": "code",
   "execution_count": null,
   "metadata": {},
   "outputs": [],
   "source": []
  },
  {
   "cell_type": "code",
   "execution_count": null,
   "metadata": {},
   "outputs": [],
   "source": []
  },
  {
   "cell_type": "code",
   "execution_count": null,
   "metadata": {},
   "outputs": [],
   "source": []
  }
 ],
 "metadata": {
  "interpreter": {
   "hash": "890f876c288a014ee11efda0f50c4e2036c0407b70a25cd72a8c49f956783df5"
  },
  "kernelspec": {
   "display_name": "Python 3.8.8 64-bit ('base': conda)",
   "language": "python",
   "name": "python3"
  },
  "language_info": {
   "codemirror_mode": {
    "name": "ipython",
    "version": 3
   },
   "file_extension": ".py",
   "mimetype": "text/x-python",
   "name": "python",
   "nbconvert_exporter": "python",
   "pygments_lexer": "ipython3",
   "version": "3.8.8"
  },
  "orig_nbformat": 4
 },
 "nbformat": 4,
 "nbformat_minor": 2
}
