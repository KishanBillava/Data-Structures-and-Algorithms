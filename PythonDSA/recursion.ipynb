{
 "cells": [
  {
   "cell_type": "code",
   "execution_count": 1,
   "metadata": {},
   "outputs": [],
   "source": [
    "# base case \n",
    "# recursive case\n",
    "# "
   ]
  },
  {
   "cell_type": "code",
   "execution_count": 3,
   "metadata": {},
   "outputs": [],
   "source": [
    "def open_gift_box():\n",
    "    ball = 0\n",
    "    if ball:\n",
    "        return ball\n",
    "    open_gift_box()"
   ]
  },
  {
   "cell_type": "code",
   "execution_count": 8,
   "metadata": {},
   "outputs": [],
   "source": [
    "\n",
    "def open_gift_box():\n",
    "    if ball:\n",
    "        return ball\n",
    "    open_gift_box()\n"
   ]
  },
  {
   "cell_type": "code",
   "execution_count": 2,
   "metadata": {},
   "outputs": [
    {
     "name": "stdout",
     "output_type": "stream",
     "text": [
      "Three\n",
      "Two\n",
      "One\n"
     ]
    }
   ],
   "source": [
    "def funcOne():\n",
    "    funcTwo()\n",
    "    print('One')\n",
    "\n",
    "def funcTwo():\n",
    "    funcThree()\n",
    "    print('Two')\n",
    "\n",
    "def funcThree():\n",
    "    print('Three')\n",
    "\n",
    "funcOne()"
   ]
  },
  {
   "cell_type": "code",
   "execution_count": 4,
   "metadata": {},
   "outputs": [],
   "source": [
    "# factorial\n",
    "# 4! \n",
    "# 4 * 3!\n",
    "#     3  * 2!\n",
    "#          2  * 1!\n",
    "#               1"
   ]
  },
  {
   "cell_type": "code",
   "execution_count": 6,
   "metadata": {},
   "outputs": [
    {
     "data": {
      "text/plain": [
       "24"
      ]
     },
     "execution_count": 6,
     "metadata": {},
     "output_type": "execute_result"
    }
   ],
   "source": [
    "def factorial(n):\n",
    "    if n == 1 :\n",
    "        return 1 \n",
    "    return n * factorial(n-1)\n",
    "\n",
    "factorial(4)"
   ]
  },
  {
   "cell_type": "code",
   "execution_count": null,
   "metadata": {},
   "outputs": [],
   "source": []
  }
 ],
 "metadata": {
  "interpreter": {
   "hash": "890f876c288a014ee11efda0f50c4e2036c0407b70a25cd72a8c49f956783df5"
  },
  "kernelspec": {
   "display_name": "Python 3.8.8 64-bit ('base': conda)",
   "language": "python",
   "name": "python3"
  },
  "language_info": {
   "codemirror_mode": {
    "name": "ipython",
    "version": 3
   },
   "file_extension": ".py",
   "mimetype": "text/x-python",
   "name": "python",
   "nbconvert_exporter": "python",
   "pygments_lexer": "ipython3",
   "version": "3.8.8"
  },
  "orig_nbformat": 4
 },
 "nbformat": 4,
 "nbformat_minor": 2
}
