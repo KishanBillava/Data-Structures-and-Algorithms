{
 "cells": [
  {
   "cell_type": "code",
   "execution_count": 1,
   "metadata": {},
   "outputs": [
    {
     "name": "stdout",
     "output_type": "stream",
     "text": [
      "Hello\n"
     ]
    }
   ],
   "source": [
    "print(\"Hello\")"
   ]
  },
  {
   "cell_type": "code",
   "execution_count": 2,
   "metadata": {},
   "outputs": [],
   "source": [
    "head = {\n",
    "        \"value\": 11,\n",
    "        \"next\": {\n",
    "                \"value\":3,\n",
    "                \"next\":{\n",
    "                        \"value\": 23,\n",
    "                        \"next\": {\n",
    "                                \"value\":7,\n",
    "                                \"next\": None\n",
    "\n",
    "                        }\n",
    "                }\n",
    "        \n",
    "    }\n",
    "}"
   ]
  },
  {
   "cell_type": "code",
   "execution_count": 3,
   "metadata": {},
   "outputs": [
    {
     "data": {
      "text/plain": [
       "{'value': 11,\n",
       " 'next': {'value': 3,\n",
       "  'next': {'value': 23, 'next': {'value': 7, 'next': None}}}}"
      ]
     },
     "execution_count": 3,
     "metadata": {},
     "output_type": "execute_result"
    }
   ],
   "source": [
    "head"
   ]
  },
  {
   "cell_type": "code",
   "execution_count": 7,
   "metadata": {},
   "outputs": [
    {
     "name": "stdout",
     "output_type": "stream",
     "text": [
      "23\n"
     ]
    }
   ],
   "source": [
    "print(head['next']['next']['value'])\n",
    "# this will only run with a linked list \n",
    "# print(linked_list.head.next,next.value)"
   ]
  },
  {
   "cell_type": "code",
   "execution_count": 11,
   "metadata": {},
   "outputs": [],
   "source": [
    "class Node:\n",
    "    def __init__(self, value):\n",
    "        self.value = value\n",
    "        self.next = None\n",
    "\n",
    "\n",
    "class LinkedList:\n",
    "    def __init__(self, value):\n",
    "        # create a node\n",
    "        new_node = Node(value)\n",
    "        self.head = new_node\n",
    "        self.tail = new_node\n",
    "        self.length = 1\n",
    "\n",
    "    def append(self, value):\n",
    "        # create a node \n",
    "        # add node to end\n",
    "        new_node = Node(value)\n",
    "        if  self.length == 0:    # self.head is None:\n",
    "            self.head = new_node\n",
    "            self.tail = new_node\n",
    "        else:\n",
    "            self.tail.next = new_node\n",
    "            self.tail = new_node\n",
    "        self.length +=1\n",
    "        return True\n",
    "\n",
    "    def pop(self):\n",
    "        if self.length == 0 :\n",
    "            return None\n",
    "        \n",
    "        temp = self.head\n",
    "        pre = self.head\n",
    "        while(temp.next):\n",
    "            pre  = temp\n",
    "            temp = temp.next\n",
    "\n",
    "        self.tail = pre\n",
    "        self.tail.next = None\n",
    "        self.length -=1\n",
    "        if self.length == 0:\n",
    "            self.head = None\n",
    "            self.tail = None\n",
    "        return temp.value  # temp\n",
    "\n",
    "    def prepend(self, value):\n",
    "        # create a node \n",
    "        # add node to beginning\n",
    "        new_node = Node(value)\n",
    "        if self.length == 0:\n",
    "            self.head = new_node\n",
    "            self.tail = new_node\n",
    "        else:\n",
    "            new_node.next = self.head\n",
    "            self.head = new_node\n",
    "\n",
    "        self.length +=1\n",
    "            \n",
    "\n",
    "    def pop_first(self):\n",
    "        if self.length ==0:\n",
    "            return None\n",
    "        temp = self.head\n",
    "        self.head = self.head.next\n",
    "        temp.next = None\n",
    "        self.length -=1\n",
    "        if self.length == 0:\n",
    "            self.tail = None\n",
    "        return temp.value  # temp\n",
    "        \n",
    "    \n",
    "    def get(self, index):\n",
    "        if index < 0 or index >= self.length:\n",
    "            return None\n",
    "        temp = self.head\n",
    "        for _ in range(index):\n",
    "            temp = temp.next\n",
    "        return temp  #.value  # temp  \n",
    "        \n",
    "    def set_value(self, index, value):\n",
    "        temp = self.get(index)\n",
    "        if temp:\n",
    "            temp.value = value\n",
    "            return True\n",
    "        return False\n",
    "\n",
    "    def insert(self, index, value):\n",
    "        # create a node \n",
    "        # insert node to index\n",
    "        if index <0 or index > self.length:\n",
    "            return False\n",
    "        if index == 0:\n",
    "            return self.prepend(value)\n",
    "        if index == self.length:\n",
    "            return self.append(value)\n",
    "\n",
    "        new_node  = Node(value)\n",
    "        temp = self.get(index-1)\n",
    "        new_node.next = temp.next\n",
    "        temp.next = new_node\n",
    "        self.length +=1\n",
    "        return True\n",
    "\n",
    "    def remove(self, index):\n",
    "        if index <0 or index > self.length:\n",
    "            return None\n",
    "        if index == 0:\n",
    "            return self.pop_first()\n",
    "        if index == self.length - 1 :\n",
    "            return self.pop()\n",
    "        \n",
    "        prev = self.get(index -1)\n",
    "        temp = prev.next\n",
    "        prev.next = temp.next\n",
    "        temp.next = None\n",
    "        self.length -= 1\n",
    "        return temp.value\n",
    "\n",
    "    def reverse(self):\n",
    "        temp = self.head\n",
    "        self.head = self.tail\n",
    "        self.tail = temp\n",
    "        after = temp.next\n",
    "        before = None\n",
    "\n",
    "        for _ in range(self.length):\n",
    "            after = temp.next \n",
    "            temp.next = before \n",
    "            before = temp\n",
    "            temp = after \n",
    "\n",
    "\n",
    "    def print_list(self):\n",
    "        temp = self.head\n",
    "        while temp is not None:\n",
    "            print(temp.value)\n",
    "            temp = temp.next\n",
    "\n"
   ]
  },
  {
   "cell_type": "code",
   "execution_count": 36,
   "metadata": {},
   "outputs": [
    {
     "name": "stdout",
     "output_type": "stream",
     "text": [
      "2\n",
      "3\n",
      "\n",
      "2\n",
      "3\n",
      "2\n"
     ]
    }
   ],
   "source": [
    "my_ll = LinkedList(2)\n",
    "my_ll.append(3)\n",
    "my_ll.print_list()\n",
    "print(\"\")\n",
    "print(my_ll.head.value)\n",
    "print(my_ll.tail.value)\n",
    "print(my_ll.length)\n"
   ]
  },
  {
   "cell_type": "code",
   "execution_count": 25,
   "metadata": {},
   "outputs": [
    {
     "name": "stdout",
     "output_type": "stream",
     "text": [
      "2\n",
      "3\n",
      "\n",
      "1\n",
      "2\n",
      "3\n"
     ]
    }
   ],
   "source": [
    "my_ll = LinkedList(2)\n",
    "my_ll.append(3)\n",
    "my_ll.print_list()\n",
    "print(\"\")\n",
    "my_ll.prepend(1)\n",
    "my_ll.print_list()"
   ]
  },
  {
   "cell_type": "code",
   "execution_count": 24,
   "metadata": {},
   "outputs": [
    {
     "name": "stdout",
     "output_type": "stream",
     "text": [
      "1\n",
      "2\n",
      "\n",
      "2\n",
      "1\n",
      "None\n"
     ]
    }
   ],
   "source": [
    "my_ll = LinkedList(1)\n",
    "my_ll.append(2)\n",
    "my_ll.print_list()\n",
    "print(\"\")\n",
    "# return 2 Node\n",
    "print(my_ll.pop())\n",
    "# return 1 Node\n",
    "print(my_ll.pop())\n",
    "# return None\n",
    "print(my_ll.pop())"
   ]
  },
  {
   "cell_type": "code",
   "execution_count": 26,
   "metadata": {},
   "outputs": [
    {
     "name": "stdout",
     "output_type": "stream",
     "text": [
      "1\n",
      "2\n",
      "\n",
      "1\n",
      "2\n",
      "None\n"
     ]
    }
   ],
   "source": [
    "my_ll = LinkedList(1)\n",
    "my_ll.append(2)\n",
    "my_ll.print_list()\n",
    "print(\"\")\n",
    "# return 2 Node\n",
    "print(my_ll.pop_first())\n",
    "# return 1 Node\n",
    "print(my_ll.pop_first())\n",
    "# return None\n",
    "print(my_ll.pop_first())"
   ]
  },
  {
   "cell_type": "code",
   "execution_count": 38,
   "metadata": {},
   "outputs": [
    {
     "name": "stdout",
     "output_type": "stream",
     "text": [
      "1\n",
      "3\n",
      "6\n",
      "9\n",
      "\n",
      "6\n"
     ]
    }
   ],
   "source": [
    "my_ll = LinkedList(1)\n",
    "my_ll.append(3)\n",
    "my_ll.append(6)\n",
    "my_ll.append(9)\n",
    "my_ll.print_list()\n",
    "print(\"\")\n",
    "print(my_ll.get(2))"
   ]
  },
  {
   "cell_type": "code",
   "execution_count": 4,
   "metadata": {},
   "outputs": [
    {
     "name": "stdout",
     "output_type": "stream",
     "text": [
      "1\n",
      "3\n",
      "6\n",
      "9\n",
      "\n",
      "1\n",
      "4\n",
      "6\n",
      "9\n"
     ]
    }
   ],
   "source": [
    "my_ll = LinkedList(1)\n",
    "my_ll.append(3)\n",
    "my_ll.append(6)\n",
    "my_ll.append(9)\n",
    "my_ll.print_list()\n",
    "print(\"\")\n",
    "my_ll.set_value(1,4)\n",
    "my_ll.print_list()"
   ]
  },
  {
   "cell_type": "code",
   "execution_count": 6,
   "metadata": {},
   "outputs": [
    {
     "name": "stdout",
     "output_type": "stream",
     "text": [
      "0\n",
      "2\n",
      "\n",
      "0\n",
      "1\n",
      "2\n"
     ]
    }
   ],
   "source": [
    "my_ll = LinkedList(0)\n",
    "my_ll.append(2)\n",
    "my_ll.print_list()\n",
    "print(\"\")\n",
    "my_ll.insert(1,1)\n",
    "my_ll.print_list()"
   ]
  },
  {
   "cell_type": "code",
   "execution_count": 10,
   "metadata": {},
   "outputs": [
    {
     "name": "stdout",
     "output_type": "stream",
     "text": [
      "11\n",
      "3\n",
      "23\n",
      "7\n",
      "\n",
      "11\n",
      "3\n",
      "7\n"
     ]
    }
   ],
   "source": [
    "my_ll = LinkedList(11)\n",
    "my_ll.append(3)\n",
    "my_ll.append(23)\n",
    "my_ll.append(7)\n",
    "my_ll.print_list()\n",
    "print(\"\")\n",
    "my_ll.remove(2)\n",
    "my_ll.print_list()"
   ]
  },
  {
   "cell_type": "code",
   "execution_count": 12,
   "metadata": {},
   "outputs": [
    {
     "name": "stdout",
     "output_type": "stream",
     "text": [
      "1\n",
      "2\n",
      "3\n",
      "4\n",
      "\n",
      "4\n",
      "3\n",
      "2\n",
      "1\n"
     ]
    }
   ],
   "source": [
    "my_ll = LinkedList(1)\n",
    "my_ll.append(2)\n",
    "my_ll.append(3)\n",
    "my_ll.append(4)\n",
    "my_ll.print_list()\n",
    "print(\"\")\n",
    "my_ll.reverse()\n",
    "my_ll.print_list()\n",
    "\n"
   ]
  },
  {
   "cell_type": "code",
   "execution_count": null,
   "metadata": {},
   "outputs": [],
   "source": []
  }
 ],
 "metadata": {
  "interpreter": {
   "hash": "726785a16b34630cee73fa785e741dafe3470cf4d6a1360a1e260eeea744861a"
  },
  "kernelspec": {
   "display_name": "Python 3.9.7 64-bit ('cvision': conda)",
   "language": "python",
   "name": "python3"
  },
  "language_info": {
   "codemirror_mode": {
    "name": "ipython",
    "version": 3
   },
   "file_extension": ".py",
   "mimetype": "text/x-python",
   "name": "python",
   "nbconvert_exporter": "python",
   "pygments_lexer": "ipython3",
   "version": "3.8.8"
  },
  "orig_nbformat": 4
 },
 "nbformat": 4,
 "nbformat_minor": 2
}
