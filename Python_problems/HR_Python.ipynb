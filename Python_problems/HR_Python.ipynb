{
 "cells": [
  {
   "cell_type": "code",
   "execution_count": 1,
   "id": "e1a4f0ca-ba4a-4bb6-b7c2-bcd40894dd62",
   "metadata": {},
   "outputs": [],
   "source": [
    "#"
   ]
  },
  {
   "cell_type": "code",
   "execution_count": 7,
   "id": "3c56dc4c-1179-4411-b3bb-580e256c9261",
   "metadata": {},
   "outputs": [
    {
     "name": "stdout",
     "output_type": "stream",
     "text": [
      "[[0, 0, 0], [0, 0, 1], [0, 1, 0], [1, 0, 0], [1, 1, 1]]\n"
     ]
    }
   ],
   "source": [
    "x = 1 #int(input())\n",
    "y = 1 #int(input())\n",
    "z = 1 #int(input())\n",
    "n = 2 #int(input())\n",
    "\n",
    "# x, y, z, n = (int(input()) for _ in range(4))\n",
    "\n",
    "listijk = []\n",
    "\n",
    "for i in range(x+1):\n",
    "    for j in range(y+1):\n",
    "        for k in range(z+1):\n",
    "            if i+j+k !=n:\n",
    "                listijk.append([i,j,k])\n",
    "            \n",
    "print(listijk)"
   ]
  },
  {
   "cell_type": "code",
   "execution_count": 8,
   "id": "3933d619-58e1-4335-b736-a4536eab2612",
   "metadata": {},
   "outputs": [
    {
     "data": {
      "text/plain": [
       "[[0, 0, 0], [0, 0, 1], [0, 1, 0], [1, 0, 0], [1, 1, 1]]"
      ]
     },
     "execution_count": 8,
     "metadata": {},
     "output_type": "execute_result"
    }
   ],
   "source": [
    "[[i,j,k] for i in range(x+1) for j in range(y+1) for k in range(z+1) if i+j+k!=n ]"
   ]
  },
  {
   "cell_type": "code",
   "execution_count": 9,
   "id": "2916fa73-b629-40c3-9647-ef9bf2f1e443",
   "metadata": {},
   "outputs": [],
   "source": [
    "#"
   ]
  },
  {
   "cell_type": "code",
   "execution_count": 30,
   "id": "87babe01-be6e-44cf-9ef0-4f7098cd0339",
   "metadata": {},
   "outputs": [
    {
     "name": "stdout",
     "output_type": "stream",
     "text": [
      "5\n"
     ]
    }
   ],
   "source": [
    "arr =  [2, 3, 6, 6, 5]\n",
    "arr_set = set(arr)\n",
    "arr_sort = sorted(list(arr_set), reverse=True)\n",
    "print(list(arr_sort)[1])"
   ]
  },
  {
   "cell_type": "code",
   "execution_count": 116,
   "id": "94b5e833-bbb6-461b-8b2a-31f304268b6f",
   "metadata": {},
   "outputs": [
    {
     "name": "stdout",
     "output_type": "stream",
     "text": [
      "Hello World Lol\n"
     ]
    }
   ],
   "source": [
    "\n",
    "\n",
    "def solve(s):\n",
    "    ns = []\n",
    "    cap = s.split()\n",
    "    for word in cap:\n",
    "        ns.append(word.capitalize())\n",
    "    return \" \".join(ns) \n",
    "        \n",
    "s = \"hello   world  lol\"\n",
    "result = solve(s)\n",
    "print(result)"
   ]
  },
  {
   "cell_type": "code",
   "execution_count": 103,
   "id": "f96703a0-d210-4ed7-84b9-da87ba8f0b15",
   "metadata": {},
   "outputs": [
    {
     "data": {
      "text/plain": [
       "'0'"
      ]
     },
     "execution_count": 103,
     "metadata": {},
     "output_type": "execute_result"
    }
   ],
   "source": [
    "s = \"0hello world\"\n",
    "s[0].capitalize()\n",
    "    "
   ]
  },
  {
   "cell_type": "code",
   "execution_count": null,
   "id": "5522d300-9982-4990-be91-445703584581",
   "metadata": {},
   "outputs": [],
   "source": []
  }
 ],
 "metadata": {
  "kernelspec": {
   "display_name": "Python 3 (ipykernel)",
   "language": "python",
   "name": "python3"
  },
  "language_info": {
   "codemirror_mode": {
    "name": "ipython",
    "version": 3
   },
   "file_extension": ".py",
   "mimetype": "text/x-python",
   "name": "python",
   "nbconvert_exporter": "python",
   "pygments_lexer": "ipython3",
   "version": "3.9.7"
  }
 },
 "nbformat": 4,
 "nbformat_minor": 5
}
